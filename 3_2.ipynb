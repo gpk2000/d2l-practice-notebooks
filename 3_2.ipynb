{
  "nbformat": 4,
  "nbformat_minor": 0,
  "metadata": {
    "colab": {
      "name": "3.2.ipynb",
      "provenance": [],
      "collapsed_sections": [],
      "authorship_tag": "ABX9TyOTi8dUVkjnl7UxfvF82SUo",
      "include_colab_link": true
    },
    "kernelspec": {
      "name": "python3",
      "display_name": "Python 3"
    }
  },
  "cells": [
    {
      "cell_type": "markdown",
      "metadata": {
        "id": "view-in-github",
        "colab_type": "text"
      },
      "source": [
        "<a href=\"https://colab.research.google.com/github/gpk2000/d2l-practice-notebooks/blob/master/3_2.ipynb\" target=\"_parent\"><img src=\"https://colab.research.google.com/assets/colab-badge.svg\" alt=\"Open In Colab\"/></a>"
      ]
    },
    {
      "cell_type": "code",
      "metadata": {
        "id": "nTVKNxCCimpf",
        "colab_type": "code",
        "colab": {}
      },
      "source": [
        "!pip install d2l==0.14.3 --quiet\n",
        "!pip install -U mxnet-cu101mkl==1.6.0.post0 --quiet"
      ],
      "execution_count": null,
      "outputs": []
    },
    {
      "cell_type": "code",
      "metadata": {
        "id": "3gdA-XREqrIW",
        "colab_type": "code",
        "colab": {}
      },
      "source": [
        "%matplotlib inline\n",
        "from d2l import mxnet as d2l\n",
        "from mxnet import autograd, np, npx\n",
        "import random\n",
        "import matplotlib.pyplot as plt\n",
        "npx.set_np()"
      ],
      "execution_count": null,
      "outputs": []
    },
    {
      "cell_type": "code",
      "metadata": {
        "id": "JcHL1bAorMHh",
        "colab_type": "code",
        "colab": {}
      },
      "source": [
        "def synthetic_data(w, b, num_examples):     #@save\n",
        "    \"\"\"generate y = Xw + b + noise\"\"\"\n",
        "    X = np.random.normal(0, 1, (num_examples, len(w)))      # num_examples x len(w)\n",
        "    y = np.dot(X, w) + b                                    # num_examples x 1\n",
        "    y += np.random.normal(0, 0.01, y.shape)             \n",
        "    return X, y.reshape((-1, 1))"
      ],
      "execution_count": null,
      "outputs": []
    },
    {
      "cell_type": "code",
      "metadata": {
        "id": "a2Iom1uwr4Xj",
        "colab_type": "code",
        "colab": {}
      },
      "source": [
        "true_w = np.array([2, -3.4])\n",
        "true_b = 4.2\n",
        "features, labels = synthetic_data(true_w, true_b, 1000)"
      ],
      "execution_count": null,
      "outputs": []
    },
    {
      "cell_type": "code",
      "metadata": {
        "id": "BX6_ROJ-smmG",
        "colab_type": "code",
        "colab": {
          "base_uri": "https://localhost:8080/",
          "height": 52
        },
        "outputId": "34f75208-8c2b-4092-b1eb-2ad6504a4b18"
      },
      "source": [
        "print('features:', features[0], '\\nlabels:', labels[0])"
      ],
      "execution_count": null,
      "outputs": [
        {
          "output_type": "stream",
          "text": [
            "features: [0.72455114 0.13263007] \n",
            "labels: [5.193183]\n"
          ],
          "name": "stdout"
        }
      ]
    },
    {
      "cell_type": "code",
      "metadata": {
        "id": "1D0iCB6ns4fv",
        "colab_type": "code",
        "colab": {
          "base_uri": "https://localhost:8080/",
          "height": 295
        },
        "outputId": "97f71488-415d-4c7c-af96-3828ce2100b0"
      },
      "source": [
        "plt.scatter(features[:,1], labels, 1)\n",
        "plt.xlabel('features')\n",
        "plt.ylabel('labels')\n",
        "plt.title('first feature vs labels')\n",
        "plt.show()"
      ],
      "execution_count": null,
      "outputs": [
        {
          "output_type": "display_data",
          "data": {
            "image/png": "[encoded data removed]",
            "text/plain": [
              "<Figure size 432x288 with 1 Axes>"
            ]
          },
          "metadata": {
            "tags": [],
            "needs_background": "light"
          }
        }
      ]
    },
    {
      "cell_type": "code",
      "metadata": {
        "id": "h6Rs2cl4t66k",
        "colab_type": "code",
        "colab": {}
      },
      "source": [
        "def data_iter(batch_size, features, labels):    #@save\n",
        "    num_examples = len(features)\n",
        "    indices = list(range(num_examples))\n",
        "    random.shuffle(indices)\n",
        "    for i in range(0, num_examples, batch_size):\n",
        "        batch_indices = np.array(\n",
        "            indices[i: min(num_examples, i + batch_size)]\n",
        "        )\n",
        "        yield features[batch_indices], labels[batch_indices]"
      ],
      "execution_count": null,
      "outputs": []
    },
    {
      "cell_type": "code",
      "metadata": {
        "id": "c1XPRZKpu4aq",
        "colab_type": "code",
        "colab": {}
      },
      "source": [
        "w = np.random.normal(loc=0, scale=0.01, size=(2, 1))\n",
        "b = np.zeros(1)\n",
        "w.attach_grad()\n",
        "b.attach_grad()"
      ],
      "execution_count": null,
      "outputs": []
    },
    {
      "cell_type": "code",
      "metadata": {
        "id": "pFVmewOo6Vlz",
        "colab_type": "code",
        "colab": {}
      },
      "source": [
        "def linreg(X, w, b):    #@save\n",
        "    \"\"\"the linear regression model\"\"\"\n",
        "    return np.dot(X, w) + b"
      ],
      "execution_count": null,
      "outputs": []
    },
    {
      "cell_type": "code",
      "metadata": {
        "id": "oHgC7OZk66TS",
        "colab_type": "code",
        "colab": {}
      },
      "source": [
        "def squared_loss(y_hat, y):     #@save\n",
        "    \"\"\"Squared loss\"\"\"\n",
        "    return (y_hat - y.reshape(y_hat.shape)) ** 2 / 2"
      ],
      "execution_count": null,
      "outputs": []
    },
    {
      "cell_type": "code",
      "metadata": {
        "id": "nguz5wL17JE_",
        "colab_type": "code",
        "colab": {}
      },
      "source": [
        "def sgd(params, lr, batch_size):    #@save\n",
        "    \"\"\"Minibatch stochastic gradient descent.\"\"\"\n",
        "    for param in params:\n",
        "        param[:] = param - lr * param.grad / batch_size"
      ],
      "execution_count": null,
      "outputs": []
    },
    {
      "cell_type": "code",
      "metadata": {
        "id": "ajho545N9Ybt",
        "colab_type": "code",
        "colab": {}
      },
      "source": [
        "lr = 0.03\n",
        "batch_size = 10 \n",
        "num_epochs = 3\n",
        "net = linreg\n",
        "loss = squared_loss"
      ],
      "execution_count": null,
      "outputs": []
    },
    {
      "cell_type": "code",
      "metadata": {
        "id": "Tn0RqQR49sRH",
        "colab_type": "code",
        "colab": {
          "base_uri": "https://localhost:8080/",
          "height": 69
        },
        "outputId": "c10926dd-21d9-437b-a3f9-a82c06f17b6d"
      },
      "source": [
        "for epoch in range(num_epochs):\n",
        "    for X, y in data_iter(batch_size, features, labels):\n",
        "        with autograd.record():\n",
        "            l = loss(net(X, w, b), y)\n",
        "        l.backward()\n",
        "        sgd([w, b], lr, batch_size)\n",
        "    train_l = loss(net(features, w, b), labels)\n",
        "    print(f'epoch {epoch + 1}, loss {float(train_l.mean()):f}')"
      ],
      "execution_count": null,
      "outputs": [
        {
          "output_type": "stream",
          "text": [
            "epoch 1, loss 0.042112\n",
            "epoch 2, loss 0.000161\n",
            "epoch 3, loss 0.000049\n"
          ],
          "name": "stdout"
        }
      ]
    },
    {
      "cell_type": "code",
      "metadata": {
        "id": "SWBPMrdI-gr7",
        "colab_type": "code",
        "colab": {}
      },
      "source": [
        ""
      ],
      "execution_count": null,
      "outputs": []
    }
  ]
}