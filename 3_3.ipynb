{
  "nbformat": 4,
  "nbformat_minor": 0,
  "metadata": {
    "colab": {
      "name": "3.3.ipynb",
      "provenance": [],
      "authorship_tag": "ABX9TyMWcsePdWZ0hcX7kzJNs815",
      "include_colab_link": true
    },
    "kernelspec": {
      "name": "python3",
      "display_name": "Python 3"
    }
  },
  "cells": [
    {
      "cell_type": "markdown",
      "metadata": {
        "id": "view-in-github",
        "colab_type": "text"
      },
      "source": [
        "<a href=\"https://colab.research.google.com/github/gpk2000/d2l-practice-notebooks/blob/master/3_3.ipynb\" target=\"_parent\"><img src=\"https://colab.research.google.com/assets/colab-badge.svg\" alt=\"Open In Colab\"/></a>"
      ]
    },
    {
      "cell_type": "code",
      "metadata": {
        "id": "f1M7mvSHZaqv",
        "colab_type": "code",
        "colab": {
          "base_uri": "https://localhost:8080/",
          "height": 52
        },
        "outputId": "3b085571-8d05-4b53-f8b6-749021661642"
      },
      "source": [
        "!pip install d2l==0.14.3 --quiet\n",
        "!pip install -U mxnet-cu101mkl==1.6.0.post0 --quiet # updating mxnet to at least v1.6"
      ],
      "execution_count": null,
      "outputs": [
        {
          "output_type": "stream",
          "text": [
            "\u001b[K     |████████████████████████████████| 61kB 4.2MB/s \n",
            "\u001b[K     |████████████████████████████████| 712.3MB 24kB/s \n",
            "\u001b[?25h"
          ],
          "name": "stdout"
        }
      ]
    },
    {
      "cell_type": "code",
      "metadata": {
        "id": "jfLnq43NlZkd",
        "colab_type": "code",
        "colab": {}
      },
      "source": [
        "%matplotlib inline\n",
        "from d2l import mxnet as d2l\n",
        "from mxnet import autograd, gluon, np, npx\n",
        "import matplotlib.pyplot as plt\n",
        "npx.set_np()"
      ],
      "execution_count": null,
      "outputs": []
    },
    {
      "cell_type": "code",
      "metadata": {
        "id": "PN_E-hftnEfH",
        "colab_type": "code",
        "colab": {}
      },
      "source": [
        "true_w = np.array([2, -3.4])\n",
        "true_b = 4.2\n",
        "features, labels = d2l.synthetic_data(true_w, true_b, 1000)"
      ],
      "execution_count": null,
      "outputs": []
    },
    {
      "cell_type": "code",
      "metadata": {
        "id": "wyHKnJUQnQc5",
        "colab_type": "code",
        "colab": {}
      },
      "source": [
        "def load_array(data_arrays, batch_size, is_train=True):\n",
        "    \"\"\"construct a gluon data iterator\"\"\"\n",
        "    dataset = gluon.data.ArrayDataset(*data_arrays)\n",
        "    return gluon.data.DataLoader(dataset, batch_size, shuffle=is_train)"
      ],
      "execution_count": null,
      "outputs": []
    },
    {
      "cell_type": "code",
      "metadata": {
        "id": "0RRo-MZXpje4",
        "colab_type": "code",
        "colab": {}
      },
      "source": [
        "batch_size = 10\n",
        "data_iter = load_array((features, labels), batch_size)"
      ],
      "execution_count": null,
      "outputs": []
    },
    {
      "cell_type": "code",
      "metadata": {
        "id": "XUCZcig0pu66",
        "colab_type": "code",
        "colab": {}
      },
      "source": [
        "next(iter(data_iter))"
      ],
      "execution_count": null,
      "outputs": []
    },
    {
      "cell_type": "code",
      "metadata": {
        "id": "1obiOCXUp0rZ",
        "colab_type": "code",
        "colab": {}
      },
      "source": [
        "from mxnet.gluon import nn\n",
        "net = nn.Sequential()\n",
        "net.add(nn.Dense(1))"
      ],
      "execution_count": null,
      "outputs": []
    },
    {
      "cell_type": "code",
      "metadata": {
        "id": "1SHyBLRlqBCK",
        "colab_type": "code",
        "colab": {}
      },
      "source": [
        "from mxnet import init\n",
        "net.initialize(init.Normal(sigma=0.01))"
      ],
      "execution_count": null,
      "outputs": []
    },
    {
      "cell_type": "code",
      "metadata": {
        "id": "uqXDWgY6rSKw",
        "colab_type": "code",
        "colab": {}
      },
      "source": [
        "loss = gluon.loss.L2Loss()"
      ],
      "execution_count": null,
      "outputs": []
    },
    {
      "cell_type": "code",
      "metadata": {
        "id": "e2keFuYErV84",
        "colab_type": "code",
        "colab": {}
      },
      "source": [
        "from mxnet import gluon\n",
        "trainer = gluon.Trainer(net.collect_params(), 'sgd', {'learning_rate': 0.03})"
      ],
      "execution_count": null,
      "outputs": []
    },
    {
      "cell_type": "code",
      "metadata": {
        "id": "tMFXcT8Er2bT",
        "colab_type": "code",
        "colab": {
          "base_uri": "https://localhost:8080/",
          "height": 69
        },
        "outputId": "32ee1c77-0c77-42b5-dad1-4e2844214c6f"
      },
      "source": [
        "num_epochs = 3\n",
        "for epoch in range(num_epochs):\n",
        "    for X, y in data_iter:\n",
        "        with autograd.record():\n",
        "            l = loss(net(X), y)\n",
        "        l.backward()\n",
        "        trainer.step(batch_size)\n",
        "    l = loss(net(features), labels)\n",
        "    print(f'epoch {epoch + 1}, loss {l.mean().asnumpy():f}')"
      ],
      "execution_count": null,
      "outputs": [
        {
          "output_type": "stream",
          "text": [
            "epoch 1, loss 0.042479\n",
            "epoch 2, loss 0.000164\n",
            "epoch 3, loss 0.000049\n"
          ],
          "name": "stdout"
        }
      ]
    },
    {
      "cell_type": "code",
      "metadata": {
        "id": "Q4hrG-qJsiuG",
        "colab_type": "code",
        "colab": {}
      },
      "source": [
        ""
      ],
      "execution_count": null,
      "outputs": []
    }
  ]
}